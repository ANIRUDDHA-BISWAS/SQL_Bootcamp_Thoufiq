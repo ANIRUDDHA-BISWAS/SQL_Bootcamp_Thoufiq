{
  "nbformat": 4,
  "nbformat_minor": 0,
  "metadata": {
    "colab": {
      "provenance": []
    },
    "kernelspec": {
      "name": "python3",
      "display_name": "Python 3"
    },
    "language_info": {
      "name": "python"
    }
  },
  "cells": [
    {
      "cell_type": "markdown",
      "source": [
        "#While Loop"
      ],
      "metadata": {
        "id": "4BLCD5LTnrer"
      }
    },
    {
      "cell_type": "code",
      "source": [
        "counter=1\n",
        "\n",
        "while counter<=5:\n",
        "  print(counter)\n",
        "  counter=counter+1"
      ],
      "metadata": {
        "colab": {
          "base_uri": "https://localhost:8080/"
        },
        "id": "zBPFrslCnz0g",
        "outputId": "05989941-fe63-457e-c60f-b3c59980fbe4"
      },
      "execution_count": null,
      "outputs": [
        {
          "output_type": "stream",
          "name": "stdout",
          "text": [
            "1\n",
            "2\n",
            "3\n",
            "4\n",
            "5\n"
          ]
        }
      ]
    },
    {
      "cell_type": "markdown",
      "source": [
        "#Infinite While Loop"
      ],
      "metadata": {
        "id": "zK2VvlRooTKR"
      }
    },
    {
      "cell_type": "code",
      "source": [
        "while True:\n",
        "  print('Hello')"
      ],
      "metadata": {
        "id": "n8oQf05ooYHl"
      },
      "execution_count": null,
      "outputs": []
    },
    {
      "cell_type": "markdown",
      "source": [
        "#Nested While Loop"
      ],
      "metadata": {
        "id": "htNI7wYqo3oU"
      }
    },
    {
      "cell_type": "code",
      "source": [
        "i=1\n",
        "j=1\n",
        "\n",
        "while i<4:\n",
        "  j=1\n",
        "  while j<4:\n",
        "    print(i,j)\n",
        "    j=j+1\n",
        "  print(\"___\")\n",
        "  i=i+1\n"
      ],
      "metadata": {
        "colab": {
          "base_uri": "https://localhost:8080/"
        },
        "id": "p6lh4PBFo_Mx",
        "outputId": "97c26bf8-167a-4552-b971-0181cda63edc"
      },
      "execution_count": null,
      "outputs": [
        {
          "output_type": "stream",
          "name": "stdout",
          "text": [
            "1 1\n",
            "1 2\n",
            "1 3\n",
            "___\n",
            "2 1\n",
            "2 2\n",
            "2 3\n",
            "___\n",
            "3 1\n",
            "3 2\n",
            "3 3\n",
            "___\n"
          ]
        }
      ]
    },
    {
      "cell_type": "markdown",
      "source": [
        "#While with Break and Continue"
      ],
      "metadata": {
        "id": "g-pupHRhpzSj"
      }
    },
    {
      "cell_type": "code",
      "source": [
        "counter = 1\n",
        "while counter <= 5:\n",
        "    if counter == 3:\n",
        "        break  # terminates the loop when counter is 3\n",
        "    if counter == 2:\n",
        "        counter += 1\n",
        "        continue  # skips the rest of the code for counter 2\n",
        "    print(counter)\n",
        "    counter += 1"
      ],
      "metadata": {
        "colab": {
          "base_uri": "https://localhost:8080/"
        },
        "id": "xkWRsbM1p4SF",
        "outputId": "019a6d9d-69fa-4c57-fc8a-1fb6bac68d3a"
      },
      "execution_count": null,
      "outputs": [
        {
          "output_type": "stream",
          "name": "stdout",
          "text": [
            "1\n"
          ]
        }
      ]
    },
    {
      "cell_type": "markdown",
      "source": [
        "## String Slicing"
      ],
      "metadata": {
        "id": "1dqR3AEIFXCK"
      }
    },
    {
      "cell_type": "code",
      "source": [
        "x='Hello'\n",
        "print(x)"
      ],
      "metadata": {
        "colab": {
          "base_uri": "https://localhost:8080/"
        },
        "id": "WDWaT5MMFZfz",
        "outputId": "3a809bfe-9c3d-4d9b-e42f-bee88534ef94"
      },
      "execution_count": null,
      "outputs": [
        {
          "output_type": "stream",
          "name": "stdout",
          "text": [
            "Hello\n"
          ]
        }
      ]
    },
    {
      "cell_type": "code",
      "source": [
        "for i in range(len(x)):\n",
        "  print(x[i],end='')"
      ],
      "metadata": {
        "colab": {
          "base_uri": "https://localhost:8080/"
        },
        "id": "nYLX9O4IFf11",
        "outputId": "4f0c8356-971c-492e-8621-cfb5522ed4a6"
      },
      "execution_count": null,
      "outputs": [
        {
          "output_type": "stream",
          "name": "stdout",
          "text": [
            "Hello"
          ]
        }
      ]
    },
    {
      "cell_type": "code",
      "source": [
        "for i in range(2,len(x)):\n",
        "  print(x[i],end='')"
      ],
      "metadata": {
        "colab": {
          "base_uri": "https://localhost:8080/"
        },
        "id": "2dqxZmwSGTlL",
        "outputId": "c3ac64ff-1a83-4d65-c16e-759df729c4e8"
      },
      "execution_count": null,
      "outputs": [
        {
          "output_type": "stream",
          "name": "stdout",
          "text": [
            "llo"
          ]
        }
      ]
    },
    {
      "cell_type": "code",
      "source": [
        "#range(start,stop,step)\n",
        "#x[start:stop:step]\n",
        "\n",
        "x[0:6:1]"
      ],
      "metadata": {
        "colab": {
          "base_uri": "https://localhost:8080/",
          "height": 35
        },
        "id": "vabjrZQ7GZ9i",
        "outputId": "82fb4556-bb38-4fbe-d7e9-1c3dde42d299"
      },
      "execution_count": null,
      "outputs": [
        {
          "output_type": "execute_result",
          "data": {
            "text/plain": [
              "'Hello'"
            ],
            "application/vnd.google.colaboratory.intrinsic+json": {
              "type": "string"
            }
          },
          "metadata": {},
          "execution_count": 75
        }
      ]
    },
    {
      "cell_type": "code",
      "source": [
        "x[::1]"
      ],
      "metadata": {
        "colab": {
          "base_uri": "https://localhost:8080/",
          "height": 35
        },
        "id": "qiq98uNRGv61",
        "outputId": "2872ab27-d32d-42c5-fd23-8c7065d28323"
      },
      "execution_count": null,
      "outputs": [
        {
          "output_type": "execute_result",
          "data": {
            "text/plain": [
              "'Hello'"
            ],
            "application/vnd.google.colaboratory.intrinsic+json": {
              "type": "string"
            }
          },
          "metadata": {},
          "execution_count": 76
        }
      ]
    },
    {
      "cell_type": "code",
      "source": [
        "x[::-1]"
      ],
      "metadata": {
        "colab": {
          "base_uri": "https://localhost:8080/",
          "height": 35
        },
        "id": "QK7uugBNG8pl",
        "outputId": "276ae1f2-b887-49db-b104-464e8593a2c7"
      },
      "execution_count": null,
      "outputs": [
        {
          "output_type": "execute_result",
          "data": {
            "text/plain": [
              "'olleH'"
            ],
            "application/vnd.google.colaboratory.intrinsic+json": {
              "type": "string"
            }
          },
          "metadata": {},
          "execution_count": 77
        }
      ]
    },
    {
      "cell_type": "code",
      "source": [
        "x[2:5]"
      ],
      "metadata": {
        "colab": {
          "base_uri": "https://localhost:8080/",
          "height": 35
        },
        "id": "Y3YF-JdfHBv_",
        "outputId": "71085575-1d45-44ee-fbb1-68847e71df32"
      },
      "execution_count": null,
      "outputs": [
        {
          "output_type": "execute_result",
          "data": {
            "text/plain": [
              "'llo'"
            ],
            "application/vnd.google.colaboratory.intrinsic+json": {
              "type": "string"
            }
          },
          "metadata": {},
          "execution_count": 78
        }
      ]
    },
    {
      "cell_type": "markdown",
      "source": [
        "## String Concatenation"
      ],
      "metadata": {
        "id": "3FCfp1wfHchS"
      }
    },
    {
      "cell_type": "code",
      "source": [
        "'Hello'+' '+'World!'"
      ],
      "metadata": {
        "colab": {
          "base_uri": "https://localhost:8080/",
          "height": 35
        },
        "id": "-nN36doRHsXb",
        "outputId": "449c45ec-dd9f-4c06-faaf-5a6287a6d46d"
      },
      "execution_count": null,
      "outputs": [
        {
          "output_type": "execute_result",
          "data": {
            "text/plain": [
              "'Hello World!'"
            ],
            "application/vnd.google.colaboratory.intrinsic+json": {
              "type": "string"
            }
          },
          "metadata": {},
          "execution_count": 79
        }
      ]
    },
    {
      "cell_type": "markdown",
      "source": [
        "# Format String"
      ],
      "metadata": {
        "id": "mK0ic7sDIcLk"
      }
    },
    {
      "cell_type": "code",
      "source": [
        "name='Vimal'\n",
        "age=32\n",
        "\n",
        "print('Hello this is',name,'and my age is',age,'years old.')\n",
        "print('Hello this is {} and my age is {} years old.'.format(name,age))\n",
        "print(f'Hello this is {name} and my age is {age} years old.')"
      ],
      "metadata": {
        "colab": {
          "base_uri": "https://localhost:8080/"
        },
        "id": "hiTCqYbpIjzC",
        "outputId": "78fa3aa4-cb65-48cf-d1f7-faeae3aef920"
      },
      "execution_count": null,
      "outputs": [
        {
          "output_type": "stream",
          "name": "stdout",
          "text": [
            "Hello this is Vimal and my age is 32 years old.\n",
            "Hello this is Vimal and my age is 32 years old.\n",
            "Hello this is Vimal and my age is 32 years old.\n"
          ]
        }
      ]
    },
    {
      "cell_type": "markdown",
      "source": [
        "## split() and join()"
      ],
      "metadata": {
        "id": "qUlG25sgJit4"
      }
    },
    {
      "cell_type": "code",
      "source": [
        "S='Hello this is Vimal Dixit'\n",
        "W=S.split()  #List\n",
        "\n",
        "print(S)\n",
        "print(W)\n",
        "\n",
        "S1=' '.join(W)\n",
        "print(S1)"
      ],
      "metadata": {
        "colab": {
          "base_uri": "https://localhost:8080/"
        },
        "id": "JBo_kr00Jpa7",
        "outputId": "d2eb5bed-4095-4ce6-f2ee-dd02d3f7bf66"
      },
      "execution_count": null,
      "outputs": [
        {
          "output_type": "stream",
          "name": "stdout",
          "text": [
            "Hello this is Vimal Dixit\n",
            "['Hello', 'this', 'is', 'Vimal', 'Dixit']\n",
            "Hello this is Vimal Dixit\n"
          ]
        }
      ]
    },
    {
      "cell_type": "code",
      "source": [
        "x='Hello World'\n",
        "\n",
        "print(len(x))"
      ],
      "metadata": {
        "colab": {
          "base_uri": "https://localhost:8080/"
        },
        "id": "B74ySMwpJ1tX",
        "outputId": "d13730c8-b140-4e6b-ff91-166382ec2cd4"
      },
      "execution_count": null,
      "outputs": [
        {
          "output_type": "stream",
          "name": "stdout",
          "text": [
            "11\n"
          ]
        }
      ]
    },
    {
      "cell_type": "code",
      "source": [
        "x=123\n",
        "print(type(x))\n",
        "\n",
        "y=str(x)\n",
        "print(type(y))"
      ],
      "metadata": {
        "colab": {
          "base_uri": "https://localhost:8080/"
        },
        "id": "qmb9CWNDKnoq",
        "outputId": "3e7c4376-debb-4ead-8131-12b6cf983d36"
      },
      "execution_count": null,
      "outputs": [
        {
          "output_type": "stream",
          "name": "stdout",
          "text": [
            "<class 'int'>\n",
            "<class 'str'>\n"
          ]
        }
      ]
    },
    {
      "cell_type": "code",
      "source": [
        "ord('A')  # ASCII Values (Total 256 Values are there)"
      ],
      "metadata": {
        "colab": {
          "base_uri": "https://localhost:8080/"
        },
        "id": "vdKgRnOJKuVu",
        "outputId": "2b379164-b5a1-47e1-8b16-3230014ef885"
      },
      "execution_count": null,
      "outputs": [
        {
          "output_type": "execute_result",
          "data": {
            "text/plain": [
              "65"
            ]
          },
          "metadata": {},
          "execution_count": 84
        }
      ]
    },
    {
      "cell_type": "code",
      "source": [
        "'Hello'.lower()"
      ],
      "metadata": {
        "colab": {
          "base_uri": "https://localhost:8080/",
          "height": 35
        },
        "id": "Qp6PNOPyK88S",
        "outputId": "6138fa3b-f1ba-40e4-e094-e731ee30a898"
      },
      "execution_count": null,
      "outputs": [
        {
          "output_type": "execute_result",
          "data": {
            "text/plain": [
              "'hello'"
            ],
            "application/vnd.google.colaboratory.intrinsic+json": {
              "type": "string"
            }
          },
          "metadata": {},
          "execution_count": 85
        }
      ]
    },
    {
      "cell_type": "code",
      "source": [
        "'Hello'.upper()"
      ],
      "metadata": {
        "colab": {
          "base_uri": "https://localhost:8080/",
          "height": 35
        },
        "id": "TWRbSHSuLJBE",
        "outputId": "5f156825-8656-45d0-d5e6-6015b077a4b6"
      },
      "execution_count": null,
      "outputs": [
        {
          "output_type": "execute_result",
          "data": {
            "text/plain": [
              "'HELLO'"
            ],
            "application/vnd.google.colaboratory.intrinsic+json": {
              "type": "string"
            }
          },
          "metadata": {},
          "execution_count": 86
        }
      ]
    },
    {
      "cell_type": "code",
      "source": [
        "'data science'.capitalize()"
      ],
      "metadata": {
        "colab": {
          "base_uri": "https://localhost:8080/",
          "height": 35
        },
        "id": "z22GkMXJLLk7",
        "outputId": "f03075d0-98b3-4e21-8a59-c93dbb552550"
      },
      "execution_count": null,
      "outputs": [
        {
          "output_type": "execute_result",
          "data": {
            "text/plain": [
              "'Data science'"
            ],
            "application/vnd.google.colaboratory.intrinsic+json": {
              "type": "string"
            }
          },
          "metadata": {},
          "execution_count": 87
        }
      ]
    },
    {
      "cell_type": "code",
      "source": [
        "'data science'.title()"
      ],
      "metadata": {
        "colab": {
          "base_uri": "https://localhost:8080/",
          "height": 35
        },
        "id": "OoKsiJrGLQyf",
        "outputId": "9ba03887-5e46-49d5-e0c7-51133bfa0a0b"
      },
      "execution_count": null,
      "outputs": [
        {
          "output_type": "execute_result",
          "data": {
            "text/plain": [
              "'Data Science'"
            ],
            "application/vnd.google.colaboratory.intrinsic+json": {
              "type": "string"
            }
          },
          "metadata": {},
          "execution_count": 88
        }
      ]
    },
    {
      "cell_type": "code",
      "source": [
        "' Hello'.strip()"
      ],
      "metadata": {
        "colab": {
          "base_uri": "https://localhost:8080/",
          "height": 35
        },
        "id": "5tpgAQ3cLVHH",
        "outputId": "3049e475-44fa-4023-e2ae-62eba2853f67"
      },
      "execution_count": null,
      "outputs": [
        {
          "output_type": "execute_result",
          "data": {
            "text/plain": [
              "'Hello'"
            ],
            "application/vnd.google.colaboratory.intrinsic+json": {
              "type": "string"
            }
          },
          "metadata": {},
          "execution_count": 89
        }
      ]
    },
    {
      "cell_type": "code",
      "source": [
        "x='Hello'\n",
        "\n",
        "x=x.replace('H','B')\n",
        "x"
      ],
      "metadata": {
        "colab": {
          "base_uri": "https://localhost:8080/",
          "height": 35
        },
        "id": "vPjKMxieLbhU",
        "outputId": "5a624095-290e-40e3-8799-06f874b5f981"
      },
      "execution_count": null,
      "outputs": [
        {
          "output_type": "execute_result",
          "data": {
            "text/plain": [
              "'Bello'"
            ],
            "application/vnd.google.colaboratory.intrinsic+json": {
              "type": "string"
            }
          },
          "metadata": {},
          "execution_count": 90
        }
      ]
    },
    {
      "cell_type": "code",
      "source": [
        "'122 12233 22 23334'.count('3')"
      ],
      "metadata": {
        "colab": {
          "base_uri": "https://localhost:8080/"
        },
        "id": "iYi3IjE1L_nN",
        "outputId": "374052a9-5e39-455e-c681-aec3f2dc4610"
      },
      "execution_count": null,
      "outputs": [
        {
          "output_type": "execute_result",
          "data": {
            "text/plain": [
              "5"
            ]
          },
          "metadata": {},
          "execution_count": 91
        }
      ]
    },
    {
      "cell_type": "code",
      "source": [
        "'123456789'.find('8')"
      ],
      "metadata": {
        "colab": {
          "base_uri": "https://localhost:8080/"
        },
        "id": "DXwyr58FMHF_",
        "outputId": "87f379f6-f7d8-483a-be37-f6d58c9f2393"
      },
      "execution_count": null,
      "outputs": [
        {
          "output_type": "execute_result",
          "data": {
            "text/plain": [
              "7"
            ]
          },
          "metadata": {},
          "execution_count": 92
        }
      ]
    },
    {
      "cell_type": "code",
      "source": [
        "'hello'.isalpha()"
      ],
      "metadata": {
        "colab": {
          "base_uri": "https://localhost:8080/"
        },
        "id": "YaiZS5YcMa2U",
        "outputId": "1ac68fc5-4a42-4b75-80f0-2ff97545e441"
      },
      "execution_count": null,
      "outputs": [
        {
          "output_type": "execute_result",
          "data": {
            "text/plain": [
              "True"
            ]
          },
          "metadata": {},
          "execution_count": 93
        }
      ]
    },
    {
      "cell_type": "code",
      "source": [
        "'hello123'.isalnum()"
      ],
      "metadata": {
        "colab": {
          "base_uri": "https://localhost:8080/"
        },
        "id": "dCbS0_0mMrE9",
        "outputId": "3b46cc23-51be-49c1-99c6-b76009c3658f"
      },
      "execution_count": null,
      "outputs": [
        {
          "output_type": "execute_result",
          "data": {
            "text/plain": [
              "True"
            ]
          },
          "metadata": {},
          "execution_count": 94
        }
      ]
    },
    {
      "cell_type": "code",
      "source": [
        "'123'.isnumeric()"
      ],
      "metadata": {
        "colab": {
          "base_uri": "https://localhost:8080/"
        },
        "id": "WUneMQLRMw46",
        "outputId": "20998f95-ecde-426b-fe14-0a669a511918"
      },
      "execution_count": null,
      "outputs": [
        {
          "output_type": "execute_result",
          "data": {
            "text/plain": [
              "True"
            ]
          },
          "metadata": {},
          "execution_count": 95
        }
      ]
    },
    {
      "cell_type": "code",
      "source": [
        "'Hello'.startswith('H')"
      ],
      "metadata": {
        "colab": {
          "base_uri": "https://localhost:8080/"
        },
        "id": "L8qiXJXUM0dO",
        "outputId": "18f6b32b-e6c1-4f5a-cd95-2a70bd6ef949"
      },
      "execution_count": null,
      "outputs": [
        {
          "output_type": "execute_result",
          "data": {
            "text/plain": [
              "True"
            ]
          },
          "metadata": {},
          "execution_count": 96
        }
      ]
    },
    {
      "cell_type": "code",
      "source": [
        "'Hello'.endswith('o')"
      ],
      "metadata": {
        "colab": {
          "base_uri": "https://localhost:8080/"
        },
        "id": "s6h_-kn6M__M",
        "outputId": "f245d3fc-a506-4f06-d6e7-3d982fe7df6f"
      },
      "execution_count": null,
      "outputs": [
        {
          "output_type": "execute_result",
          "data": {
            "text/plain": [
              "True"
            ]
          },
          "metadata": {},
          "execution_count": 97
        }
      ]
    },
    {
      "cell_type": "markdown",
      "source": [
        "## Lists"
      ],
      "metadata": {
        "id": "TYTUcz7MNOqf"
      }
    },
    {
      "cell_type": "code",
      "source": [
        "x=[1,2,3,4,5]\n",
        "print(x)"
      ],
      "metadata": {
        "colab": {
          "base_uri": "https://localhost:8080/"
        },
        "id": "bkdF4KtuNR9w",
        "outputId": "fe9e15fa-2203-4797-d0fe-909d373a6ed7"
      },
      "execution_count": null,
      "outputs": [
        {
          "output_type": "stream",
          "name": "stdout",
          "text": [
            "[1, 2, 3, 4, 5]\n"
          ]
        }
      ]
    },
    {
      "cell_type": "code",
      "source": [
        "x[1:4:1]"
      ],
      "metadata": {
        "colab": {
          "base_uri": "https://localhost:8080/"
        },
        "id": "XT_eiFsMNY-J",
        "outputId": "850d801f-a469-49e1-d0a3-83d32ffa638f"
      },
      "execution_count": null,
      "outputs": [
        {
          "output_type": "execute_result",
          "data": {
            "text/plain": [
              "[2, 3, 4]"
            ]
          },
          "metadata": {},
          "execution_count": 99
        }
      ]
    },
    {
      "cell_type": "code",
      "source": [
        "x"
      ],
      "metadata": {
        "colab": {
          "base_uri": "https://localhost:8080/"
        },
        "id": "QvcMosViNd98",
        "outputId": "4238496f-f86e-417b-9986-5d64b3eec886"
      },
      "execution_count": null,
      "outputs": [
        {
          "output_type": "execute_result",
          "data": {
            "text/plain": [
              "[1, 2, 3, 4, 5]"
            ]
          },
          "metadata": {},
          "execution_count": 100
        }
      ]
    },
    {
      "cell_type": "code",
      "source": [
        "x.append(5)\n",
        "x"
      ],
      "metadata": {
        "colab": {
          "base_uri": "https://localhost:8080/"
        },
        "id": "67wfjpEmOAo2",
        "outputId": "5d92dfc6-c527-494d-a589-8520e5b69d78"
      },
      "execution_count": null,
      "outputs": [
        {
          "output_type": "execute_result",
          "data": {
            "text/plain": [
              "[1, 2, 3, 4, 5, 5]"
            ]
          },
          "metadata": {},
          "execution_count": 101
        }
      ]
    },
    {
      "cell_type": "code",
      "source": [
        "x.insert(1,7)\n",
        "x"
      ],
      "metadata": {
        "colab": {
          "base_uri": "https://localhost:8080/"
        },
        "id": "aoEfpGBTOPyl",
        "outputId": "fb96b98b-f117-4407-f28b-bb3d5a3664b0"
      },
      "execution_count": null,
      "outputs": [
        {
          "output_type": "execute_result",
          "data": {
            "text/plain": [
              "[1, 7, 2, 3, 4, 5, 5]"
            ]
          },
          "metadata": {},
          "execution_count": 102
        }
      ]
    },
    {
      "cell_type": "code",
      "source": [
        "x.remove(7)\n",
        "x"
      ],
      "metadata": {
        "colab": {
          "base_uri": "https://localhost:8080/"
        },
        "id": "8TcwaYp4OZLW",
        "outputId": "ef82c08e-7e43-4afb-a406-eec3a767fec4"
      },
      "execution_count": null,
      "outputs": [
        {
          "output_type": "execute_result",
          "data": {
            "text/plain": [
              "[1, 2, 3, 4, 5, 5]"
            ]
          },
          "metadata": {},
          "execution_count": 103
        }
      ]
    },
    {
      "cell_type": "code",
      "source": [
        "x.pop(2)"
      ],
      "metadata": {
        "colab": {
          "base_uri": "https://localhost:8080/"
        },
        "id": "P5SuthwdOfAr",
        "outputId": "a535e83b-f21e-4ec9-dda5-f27a21a33e4e"
      },
      "execution_count": null,
      "outputs": [
        {
          "output_type": "execute_result",
          "data": {
            "text/plain": [
              "3"
            ]
          },
          "metadata": {},
          "execution_count": 104
        }
      ]
    },
    {
      "cell_type": "code",
      "source": [
        "x"
      ],
      "metadata": {
        "colab": {
          "base_uri": "https://localhost:8080/"
        },
        "id": "zaMndMCAOnCL",
        "outputId": "90832216-ee94-4e0f-94a1-329f8ff03310"
      },
      "execution_count": null,
      "outputs": [
        {
          "output_type": "execute_result",
          "data": {
            "text/plain": [
              "[1, 2, 4, 5, 5]"
            ]
          },
          "metadata": {},
          "execution_count": 105
        }
      ]
    },
    {
      "cell_type": "code",
      "source": [
        "x"
      ],
      "metadata": {
        "colab": {
          "base_uri": "https://localhost:8080/"
        },
        "id": "m0zI9WkVOsdu",
        "outputId": "c2712e35-3379-4108-d022-7afdeaf432d7"
      },
      "execution_count": null,
      "outputs": [
        {
          "output_type": "execute_result",
          "data": {
            "text/plain": [
              "[1, 2, 4, 5, 5]"
            ]
          },
          "metadata": {},
          "execution_count": 106
        }
      ]
    },
    {
      "cell_type": "code",
      "source": [
        "x[::-1]"
      ],
      "metadata": {
        "colab": {
          "base_uri": "https://localhost:8080/"
        },
        "id": "I6zDmMlqOygV",
        "outputId": "0a6b097b-51c9-462c-fb73-097b5c9f0e3a"
      },
      "execution_count": null,
      "outputs": [
        {
          "output_type": "execute_result",
          "data": {
            "text/plain": [
              "[5, 5, 4, 2, 1]"
            ]
          },
          "metadata": {},
          "execution_count": 107
        }
      ]
    },
    {
      "cell_type": "markdown",
      "source": [
        "\n",
        "#Task 1\n",
        "\n",
        "WAP to print first 10 odd numbers using while loop"
      ],
      "metadata": {
        "id": "O8kMA3xiP6pk"
      }
    },
    {
      "cell_type": "code",
      "source": [
        "odd=0\n",
        "\n",
        "while odd<10:\n",
        "  print(2*odd+1)\n",
        "  odd=odd+1"
      ],
      "metadata": {
        "colab": {
          "base_uri": "https://localhost:8080/"
        },
        "id": "xkne3DthQHxa",
        "outputId": "e77486c0-25ad-4614-9eae-42f5b442e762"
      },
      "execution_count": null,
      "outputs": [
        {
          "output_type": "stream",
          "name": "stdout",
          "text": [
            "1\n",
            "3\n",
            "5\n",
            "7\n",
            "9\n",
            "11\n",
            "13\n",
            "15\n",
            "17\n",
            "19\n"
          ]
        }
      ]
    },
    {
      "cell_type": "markdown",
      "source": [
        "#Task 2\n",
        "\n",
        "WAP to print the messages entered by user, until user enters 'STOP'.\n",
        "\n",
        "\n",
        "Passing the testcase is not necessary.\n",
        "\n",
        "\n",
        "Expected Input:\n",
        "\n",
        "\n",
        "Hii\n",
        "\n",
        "Hello\n",
        "\n",
        "How are you\n",
        "\n",
        "STOP\n",
        "\n",
        "Please provide all the inputs in the console including STOP message"
      ],
      "metadata": {
        "id": "vPAB2iDdQOI7"
      }
    },
    {
      "cell_type": "code",
      "source": [
        "while True:\n",
        "  msg=input()\n",
        "  if msg=='STOP':\n",
        "    break"
      ],
      "metadata": {
        "colab": {
          "base_uri": "https://localhost:8080/"
        },
        "id": "3-fk9-d4QWxy",
        "outputId": "0fcdb074-9119-4e62-ce8b-ae1743b3e87e"
      },
      "execution_count": null,
      "outputs": [
        {
          "name": "stdout",
          "output_type": "stream",
          "text": [
            "Hii \n",
            "Hello\n",
            "How are you\n",
            "STOP\n"
          ]
        }
      ]
    },
    {
      "cell_type": "code",
      "source": [],
      "metadata": {
        "id": "pfA1emaZQarl"
      },
      "execution_count": null,
      "outputs": []
    },
    {
      "cell_type": "markdown",
      "source": [
        "\n",
        "#Task 3\n",
        "\n",
        "WAP to check whether a number entered by user is prime or not.\n",
        "\n",
        "\n",
        "A number is said to be prime, if it is divisible by 1 and itself only.\n",
        "\n",
        "\n",
        "Sample input:3\n",
        "\n",
        "Sample output:Prime number "
      ],
      "metadata": {
        "id": "b275aJNpQias"
      }
    },
    {
      "cell_type": "code",
      "source": [
        "prime=1\n",
        "x=int(input())\n",
        "\n",
        "for i in range(2,x):\n",
        "  if x%i==0:\n",
        "    prime=0\n",
        "    break\n",
        "  \n",
        "if prime==1:\n",
        "  print('Prime number')"
      ],
      "metadata": {
        "colab": {
          "base_uri": "https://localhost:8080/"
        },
        "id": "4eSkmHddQtCe",
        "outputId": "36fcee26-2067-4d6c-9e48-aae9eedec29c"
      },
      "execution_count": null,
      "outputs": [
        {
          "output_type": "stream",
          "name": "stdout",
          "text": [
            "7\n",
            "Prime number\n"
          ]
        }
      ]
    },
    {
      "cell_type": "code",
      "source": [],
      "metadata": {
        "id": "EYjN5xNMQwew"
      },
      "execution_count": null,
      "outputs": []
    },
    {
      "cell_type": "markdown",
      "source": [
        "\n",
        "#Task 4\n",
        "WAP to print all the integers and their squares. User should provide the number to start the series from\n",
        "and what should be the max value to stop (Squared value should not be more than the max value).\n",
        "\n",
        "Sample Input:21\n",
        "\n",
        "899\n",
        "\n",
        "Sample Output:21 : 441\n",
        "\n",
        "22 : 484\n",
        "\n",
        "23 : 529\n",
        "\n",
        "24 : 576\n",
        "\n",
        "25 : 625\n",
        "\n",
        "26 : 676\n",
        "\n",
        "27 : 729\n",
        "\n",
        "28 : 784\n",
        "\n",
        "29 : 841\n",
        "\n",
        "Thats all folks!! "
      ],
      "metadata": {
        "id": "XllLZKstQ1Da"
      }
    },
    {
      "cell_type": "code",
      "source": [
        "x=int(input())\n",
        "y=int(input())\n",
        "\n",
        "for i in range(x,y):\n",
        "  if i**2<y:\n",
        "    print(i,\":\",i**2)\n",
        "print('Thats all folks!!')"
      ],
      "metadata": {
        "colab": {
          "base_uri": "https://localhost:8080/"
        },
        "id": "L2sJjt7DQ-m-",
        "outputId": "5bf95bd5-5474-4b79-ffd0-6d8c62d60f1c"
      },
      "execution_count": null,
      "outputs": [
        {
          "output_type": "stream",
          "name": "stdout",
          "text": [
            "21\n",
            "899\n",
            "21 : 441\n",
            "22 : 484\n",
            "23 : 529\n",
            "24 : 576\n",
            "25 : 625\n",
            "26 : 676\n",
            "27 : 729\n",
            "28 : 784\n",
            "29 : 841\n",
            "Thats all folks!!\n"
          ]
        }
      ]
    },
    {
      "cell_type": "markdown",
      "source": [
        "\n",
        "#Task 5\n",
        "WAP to check whether a string entered by user is palindrome or not.\n",
        "\n",
        "\n",
        "Sample input:level\n",
        "\n",
        "Sample output:Entered value is a palindrome "
      ],
      "metadata": {
        "id": "xjjkfll-RHUk"
      }
    },
    {
      "cell_type": "code",
      "source": [
        "x=input()\n",
        "y=x[::-1]\n",
        "\n",
        "if x==y:\n",
        "  print('Entered value is a palindrome')"
      ],
      "metadata": {
        "colab": {
          "base_uri": "https://localhost:8080/"
        },
        "id": "lZ3o4d5SRLBJ",
        "outputId": "fcf0aa0d-9b5c-4888-8d19-81cf24a86f16"
      },
      "execution_count": null,
      "outputs": [
        {
          "output_type": "stream",
          "name": "stdout",
          "text": [
            "level\n",
            "Entered value is a palindrome\n"
          ]
        }
      ]
    },
    {
      "cell_type": "markdown",
      "source": [
        "\n",
        "#Task 6\n",
        "WAP to prompt user to enter a sentence and encode the sentence as per below conditions:\n",
        "\n",
        "if word is at an odd position: reverse the word \n",
        "\n",
        "if word is at an even position: Captalize the first letter of the word\n",
        "\n",
        "Print the encoded message.\n",
        "\n",
        "\n",
        "Sample input:hi how are you\n",
        "\n",
        "Sample output:Hi woh Are uoy "
      ],
      "metadata": {
        "id": "OApahwsERRs1"
      }
    },
    {
      "cell_type": "code",
      "source": [
        "s=input()\n",
        "w=s.split()\n",
        "e=[]\n",
        "\n",
        "for i in range(len(w)):\n",
        "  if i%2==0:\n",
        "    e.append(w[i].capitalize())\n",
        "  else:\n",
        "    e.append(w[i][::-1])\n",
        "\n",
        "es=' '.join(e)\n",
        "print(es)"
      ],
      "metadata": {
        "colab": {
          "base_uri": "https://localhost:8080/"
        },
        "id": "3HBbPP51RbGC",
        "outputId": "ce30540e-6a74-42af-954c-e0f42b5b0c29"
      },
      "execution_count": null,
      "outputs": [
        {
          "output_type": "stream",
          "name": "stdout",
          "text": [
            "hi how are you\n",
            "Hi woh Are uoy\n"
          ]
        }
      ]
    },
    {
      "cell_type": "markdown",
      "source": [
        "\n",
        "#Task 7\n",
        "\n",
        "WAP to check whether a number is armstrong number or not.\n",
        "\n",
        "A number of 'n' number of digits is called as armstrong number if, sum of its every digit to the power of 'n' is equal to the actual number.\n",
        "\n",
        "Eg:\n",
        "num=153,\n",
        "n=3 (number of digits)\n",
        "pow(1,n)+pow(5,n)+pow(3,n)=1+125+27=153\n",
        "You can import pow from math package\n",
        "\n",
        "\n",
        "\n",
        "Sample input:153\n",
        "\n",
        "Sample output:153 is an armstrong number "
      ],
      "metadata": {
        "id": "Fgb_NPNARqnc"
      }
    },
    {
      "cell_type": "code",
      "source": [
        "x=input()\n",
        "y=int(x)\n",
        "sum=0\n",
        "\n",
        "for i in x:\n",
        "  sum=sum+int(i)**3\n",
        "\n",
        "if sum==y:\n",
        "  print(sum,'is an armstrong number')"
      ],
      "metadata": {
        "colab": {
          "base_uri": "https://localhost:8080/"
        },
        "id": "i7mKTyYUR3-j",
        "outputId": "6d28d926-fece-4bd2-a7bc-51ad0b536dd7"
      },
      "execution_count": null,
      "outputs": [
        {
          "output_type": "stream",
          "name": "stdout",
          "text": [
            "153\n",
            "153 is an armstrong number\n"
          ]
        }
      ]
    },
    {
      "cell_type": "code",
      "source": [],
      "metadata": {
        "id": "ZjF8o-RpR5iw"
      },
      "execution_count": null,
      "outputs": []
    }
  ]
}